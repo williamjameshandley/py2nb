{
 "cells": [
  {
   "cell_type": "markdown",
   "id": "98d23faa",
   "metadata": {},
   "source": [
    "# Enhanced py2nb Test Workshop\n",
    " \n",
    " This demonstrates the new enhanced py2nb syntax including:\n",
    " - Command blocks with `#!` syntax\n",
    " - Proper cell metadata\n",
    " - Modern notebook validation"
   ]
  },
  {
   "cell_type": "code",
   "execution_count": null,
   "id": "94d41973",
   "metadata": {
    "collapsed": false,
    "tags": [
     "command"
    ]
   },
   "outputs": [],
   "source": [
    "pip install numpy matplotlib\n",
    "\n",
    "pip install scipy"
   ]
  },
  {
   "cell_type": "code",
   "execution_count": null,
   "id": "108ee37a",
   "metadata": {},
   "outputs": [],
   "source": [
    "import numpy as np\n",
    "import matplotlib.pyplot as plt"
   ]
  },
  {
   "cell_type": "markdown",
   "id": "a5b67023",
   "metadata": {},
   "source": [
    "## Basic Functionality\n",
    " \n",
    " Let's start with some basic plotting to test core features."
   ]
  },
  {
   "cell_type": "code",
   "execution_count": null,
   "id": "27adfd50",
   "metadata": {},
   "outputs": [],
   "source": [
    "x = np.linspace(0, 2*np.pi, 100)\n",
    "y = np.sin(x)"
   ]
  },
  {
   "cell_type": "code",
   "execution_count": null,
   "id": "ebd6faf8",
   "metadata": {},
   "outputs": [],
   "source": [
    "plt.figure(figsize=(8, 5))\n",
    "plt.plot(x, y, label='sin(x)')\n",
    "plt.xlabel('x')\n",
    "plt.ylabel('y')\n",
    "plt.legend()\n",
    "plt.title('Basic Plot Test')\n",
    "plt.show()"
   ]
  },
  {
   "cell_type": "markdown",
   "id": "20370665",
   "metadata": {},
   "source": [
    "## Advanced Features Test\n",
    " \n",
    " Now we'll test running additional commands when needed."
   ]
  },
  {
   "cell_type": "code",
   "execution_count": null,
   "id": "f2dbac90",
   "metadata": {
    "collapsed": false,
    "tags": [
     "command"
    ]
   },
   "outputs": [],
   "source": [
    "pip install seaborn"
   ]
  },
  {
   "cell_type": "code",
   "execution_count": null,
   "id": "8165cce9",
   "metadata": {},
   "outputs": [],
   "source": [
    "import seaborn as sns\n",
    "\n",
    "# Test advanced plotting\n",
    "data = np.random.randn(100, 2)\n",
    "plt.figure(figsize=(6, 6))\n",
    "sns.scatterplot(x=data[:, 0], y=data[:, 1])\n",
    "plt.title('Advanced Plotting Test')\n",
    "plt.show()"
   ]
  },
  {
   "cell_type": "markdown",
   "id": "517887da",
   "metadata": {},
   "source": [
    "## Conclusion\n",
    " \n",
    " This workshop tested:\n",
    " - ✓ Command blocks (`#!`)  \n",
    " - ✓ Markdown cells (`#|`)\n",
    " - ✓ Code cell splits (`#-`)\n",
    " - ✓ Proper metadata handling"
   ]
  }
 ],
 "metadata": {
  "kernelspec": {
   "display_name": "Python 3",
   "language": "python",
   "name": "python3"
  },
  "language_info": {
   "codemirror_mode": {
    "name": "ipython",
    "version": 3
   },
   "file_extension": ".py",
   "mimetype": "text/x-python",
   "name": "python",
   "nbconvert_exporter": "python",
   "pygments_lexer": "ipython3",
   "version": "3.8.0"
  }
 },
 "nbformat": 4,
 "nbformat_minor": 5
}
