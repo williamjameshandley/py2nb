{
 "cells": [
  {
   "cell_type": "markdown",
   "id": "dab9ff52",
   "metadata": {},
   "source": [
    "# Testing ipython notebook\n",
    " This is designed to demonstrate a simple script that converts a script into\n",
    " a jupyter notebook with a simple additional markdown format.\n",
    "\n",
    " Code by default will be put into code cells\n",
    "\n",
    " * To make a markdown cell, prefix the comment line with '#|' or '# |'\n",
    " * To split a code cell, add a line beginning with '#-' or '# -'\n",
    " * To make a command cell, prefix the comment line with '#!' or '# !'"
   ]
  },
  {
   "cell_type": "code",
   "execution_count": null,
   "id": "7cba95d1",
   "metadata": {},
   "outputs": [],
   "source": [
    "#! pip install matplotlib numpy\n",
    "\n",
    "import matplotlib.pyplot as plt\n",
    "import numpy as np\n",
    "\n",
    "%matplotlib inline"
   ]
  },
  {
   "cell_type": "markdown",
   "id": "b08e7831",
   "metadata": {},
   "source": [
    "Here is a markdown cell.\n",
    " Maths is also possible: $A=B$\n",
    "\n",
    " There are code cells below, split by `'#-'`:"
   ]
  },
  {
   "cell_type": "markdown",
   "id": "feeab725",
   "metadata": {},
   "source": [
    "Here is another markdown cell"
   ]
  },
  {
   "cell_type": "code",
   "execution_count": null,
   "id": "e99923f8",
   "metadata": {},
   "outputs": [],
   "source": [
    "x = np.random.rand(5)"
   ]
  },
  {
   "cell_type": "code",
   "execution_count": null,
   "id": "ad4eaaf9",
   "metadata": {},
   "outputs": [],
   "source": [
    "y = np.random.rand(4)\n",
    "z = np.random.rand(3)"
   ]
  },
  {
   "cell_type": "markdown",
   "id": "5fae181a",
   "metadata": {},
   "source": [
    "Here are some plots"
   ]
  },
  {
   "cell_type": "code",
   "execution_count": null,
   "id": "e96aa270",
   "metadata": {},
   "outputs": [],
   "source": [
    "x = np.linspace(-2,2,1000)\n",
    "y = x**3\n",
    "fig, ax = plt.subplots()\n",
    "ax.plot(x,y)"
   ]
  },
  {
   "cell_type": "markdown",
   "id": "5cf885d9",
   "metadata": {},
   "source": [
    "Here is another plot"
   ]
  },
  {
   "cell_type": "code",
   "execution_count": null,
   "id": "7ee4bbc7",
   "metadata": {},
   "outputs": [],
   "source": [
    "x = np.linspace(-np.pi, np.pi, 201)\n",
    "fig, ax = plt.subplots()\n",
    "ax.plot(x,np.sin(x))"
   ]
  }
 ],
 "metadata": {},
 "nbformat": 4,
 "nbformat_minor": 5
}
